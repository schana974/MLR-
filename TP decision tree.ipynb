{
 "cells": [
  {
   "cell_type": "markdown",
   "metadata": {
    "id": "pr-yVfJeSOpF"
   },
   "source": [
    "# Détection de spams\n",
    "\n",
    "4601 observations, 57 variables (numériques)\n",
    "\n",
    "Attribute Information:\n",
    "\n",
    "The last column of 'spambase.data' denotes whether the e-mail was considered spam (1) or not (0), i.e. unsolicited commercial e-mail. Most of the attributes indicate whether a particular word or character was frequently occuring in the e-mail. The run-length attributes (55-57) measure the length of sequences of consecutive capital letters. For the statistical measures of each attribute, see the end of this file. Here are the definitions of the attributes:\n",
    "\n",
    "48 continuous real [0,100] attributes of type word_freq_WORD = percentage of words in the e-mail that match WORD, i.e. 100 * (number of times the WORD appears in the e-mail) / total number of words in e-mail. A \"word\" in this case is any string of alphanumeric characters bounded by non-alphanumeric characters or end-of-string.\n",
    "\n",
    "6 continuous real [0,100] attributes of type char_freq_CHAR] = percentage of characters in the e-mail that match CHAR, i.e. 100 * (number of CHAR occurences) / total characters in e-mail\n",
    "\n",
    "1 continuous real [1,...] attribute of type capital_run_length_average = average length of uninterrupted sequences of capital letters\n",
    "\n",
    "1 continuous integer [1,...] attribute of type capital_run_length_longest = length of longest uninterrupted sequence of capital letters\n",
    "\n",
    "1 continuous integer [1,...] attribute of type capital_run_length_total = sum of length of uninterrupted sequences of capital letters = total number of capital letters in the e-mail\n",
    "\n",
    "1 nominal {0,1} class attribute of type spam = denotes whether the e-mail was considered spam (1) or not (0), i.e. unsolicited commercial e-mail.\n",
    "\n",
    "source : https://archive.ics.uci.edu/ml/datasets/Spambase"
   ]
  },
  {
   "cell_type": "code",
   "execution_count": 3,
   "metadata": {
    "id": "TNgAxGCCRnxr"
   },
   "outputs": [],
   "source": [
    "import numpy as np\n",
    "import pandas as pd\n",
    "import matplotlib.pyplot as plt\n",
    "import seaborn as sns\n",
    "from sklearn.preprocessing import StandardScaler\n",
    "from sklearn.tree import DecisionTreeClassifier, plot_tree \n",
    "from sklearn import neighbors\n",
    "from sklearn.model_selection import train_test_split, cross_val_score, cross_validate\n",
    "from sklearn.model_selection import ShuffleSplit, GridSearchCV\n",
    "from sklearn.metrics import accuracy_score, confusion_matrix, plot_roc_curve, roc_curve\n",
    "from sklearn import linear_model"
   ]
  },
  {
   "cell_type": "markdown",
   "metadata": {
    "id": "vvfDliGwRqOO"
   },
   "source": [
    "## Importation des données"
   ]
  },
  {
   "cell_type": "code",
   "execution_count": 4,
   "metadata": {
    "colab": {
     "base_uri": "https://localhost:8080/",
     "height": 226
    },
    "id": "_I7Ul6-DRpuY",
    "outputId": "75ff8340-4fc7-4145-96f1-c54a5e8f256f"
   },
   "outputs": [
    {
     "data": {
      "text/html": [
       "<div>\n",
       "<style scoped>\n",
       "    .dataframe tbody tr th:only-of-type {\n",
       "        vertical-align: middle;\n",
       "    }\n",
       "\n",
       "    .dataframe tbody tr th {\n",
       "        vertical-align: top;\n",
       "    }\n",
       "\n",
       "    .dataframe thead th {\n",
       "        text-align: right;\n",
       "    }\n",
       "</style>\n",
       "<table border=\"1\" class=\"dataframe\">\n",
       "  <thead>\n",
       "    <tr style=\"text-align: right;\">\n",
       "      <th></th>\n",
       "      <th>word_freq_make</th>\n",
       "      <th>word_freq_address</th>\n",
       "      <th>word_freq_all</th>\n",
       "      <th>word_freq_3d</th>\n",
       "      <th>word_freq_our</th>\n",
       "      <th>word_freq_over</th>\n",
       "      <th>word_freq_remove</th>\n",
       "      <th>word_freq_internet</th>\n",
       "      <th>word_freq_order</th>\n",
       "      <th>word_freq_mail</th>\n",
       "      <th>...</th>\n",
       "      <th>char_freq_;</th>\n",
       "      <th>char_freq_(</th>\n",
       "      <th>char_freq_[</th>\n",
       "      <th>char_freq_!</th>\n",
       "      <th>char_freq_$</th>\n",
       "      <th>char_freq_#</th>\n",
       "      <th>capital_run_length_average</th>\n",
       "      <th>capital_run_length_longest</th>\n",
       "      <th>capital_run_length_total</th>\n",
       "      <th>class</th>\n",
       "    </tr>\n",
       "  </thead>\n",
       "  <tbody>\n",
       "    <tr>\n",
       "      <th>0</th>\n",
       "      <td>0.00</td>\n",
       "      <td>0.64</td>\n",
       "      <td>0.64</td>\n",
       "      <td>0.0</td>\n",
       "      <td>0.32</td>\n",
       "      <td>0.00</td>\n",
       "      <td>0.00</td>\n",
       "      <td>0.00</td>\n",
       "      <td>0.00</td>\n",
       "      <td>0.00</td>\n",
       "      <td>...</td>\n",
       "      <td>0.00</td>\n",
       "      <td>0.000</td>\n",
       "      <td>0.0</td>\n",
       "      <td>0.778</td>\n",
       "      <td>0.000</td>\n",
       "      <td>0.000</td>\n",
       "      <td>3.756</td>\n",
       "      <td>61</td>\n",
       "      <td>278</td>\n",
       "      <td>1</td>\n",
       "    </tr>\n",
       "    <tr>\n",
       "      <th>1</th>\n",
       "      <td>0.21</td>\n",
       "      <td>0.28</td>\n",
       "      <td>0.50</td>\n",
       "      <td>0.0</td>\n",
       "      <td>0.14</td>\n",
       "      <td>0.28</td>\n",
       "      <td>0.21</td>\n",
       "      <td>0.07</td>\n",
       "      <td>0.00</td>\n",
       "      <td>0.94</td>\n",
       "      <td>...</td>\n",
       "      <td>0.00</td>\n",
       "      <td>0.132</td>\n",
       "      <td>0.0</td>\n",
       "      <td>0.372</td>\n",
       "      <td>0.180</td>\n",
       "      <td>0.048</td>\n",
       "      <td>5.114</td>\n",
       "      <td>101</td>\n",
       "      <td>1028</td>\n",
       "      <td>1</td>\n",
       "    </tr>\n",
       "    <tr>\n",
       "      <th>2</th>\n",
       "      <td>0.06</td>\n",
       "      <td>0.00</td>\n",
       "      <td>0.71</td>\n",
       "      <td>0.0</td>\n",
       "      <td>1.23</td>\n",
       "      <td>0.19</td>\n",
       "      <td>0.19</td>\n",
       "      <td>0.12</td>\n",
       "      <td>0.64</td>\n",
       "      <td>0.25</td>\n",
       "      <td>...</td>\n",
       "      <td>0.01</td>\n",
       "      <td>0.143</td>\n",
       "      <td>0.0</td>\n",
       "      <td>0.276</td>\n",
       "      <td>0.184</td>\n",
       "      <td>0.010</td>\n",
       "      <td>9.821</td>\n",
       "      <td>485</td>\n",
       "      <td>2259</td>\n",
       "      <td>1</td>\n",
       "    </tr>\n",
       "    <tr>\n",
       "      <th>3</th>\n",
       "      <td>0.00</td>\n",
       "      <td>0.00</td>\n",
       "      <td>0.00</td>\n",
       "      <td>0.0</td>\n",
       "      <td>0.63</td>\n",
       "      <td>0.00</td>\n",
       "      <td>0.31</td>\n",
       "      <td>0.63</td>\n",
       "      <td>0.31</td>\n",
       "      <td>0.63</td>\n",
       "      <td>...</td>\n",
       "      <td>0.00</td>\n",
       "      <td>0.137</td>\n",
       "      <td>0.0</td>\n",
       "      <td>0.137</td>\n",
       "      <td>0.000</td>\n",
       "      <td>0.000</td>\n",
       "      <td>3.537</td>\n",
       "      <td>40</td>\n",
       "      <td>191</td>\n",
       "      <td>1</td>\n",
       "    </tr>\n",
       "    <tr>\n",
       "      <th>4</th>\n",
       "      <td>0.00</td>\n",
       "      <td>0.00</td>\n",
       "      <td>0.00</td>\n",
       "      <td>0.0</td>\n",
       "      <td>0.63</td>\n",
       "      <td>0.00</td>\n",
       "      <td>0.31</td>\n",
       "      <td>0.63</td>\n",
       "      <td>0.31</td>\n",
       "      <td>0.63</td>\n",
       "      <td>...</td>\n",
       "      <td>0.00</td>\n",
       "      <td>0.135</td>\n",
       "      <td>0.0</td>\n",
       "      <td>0.135</td>\n",
       "      <td>0.000</td>\n",
       "      <td>0.000</td>\n",
       "      <td>3.537</td>\n",
       "      <td>40</td>\n",
       "      <td>191</td>\n",
       "      <td>1</td>\n",
       "    </tr>\n",
       "  </tbody>\n",
       "</table>\n",
       "<p>5 rows × 58 columns</p>\n",
       "</div>"
      ],
      "text/plain": [
       "   word_freq_make  word_freq_address  word_freq_all  word_freq_3d  \\\n",
       "0            0.00               0.64           0.64           0.0   \n",
       "1            0.21               0.28           0.50           0.0   \n",
       "2            0.06               0.00           0.71           0.0   \n",
       "3            0.00               0.00           0.00           0.0   \n",
       "4            0.00               0.00           0.00           0.0   \n",
       "\n",
       "   word_freq_our  word_freq_over  word_freq_remove  word_freq_internet  \\\n",
       "0           0.32            0.00              0.00                0.00   \n",
       "1           0.14            0.28              0.21                0.07   \n",
       "2           1.23            0.19              0.19                0.12   \n",
       "3           0.63            0.00              0.31                0.63   \n",
       "4           0.63            0.00              0.31                0.63   \n",
       "\n",
       "   word_freq_order  word_freq_mail  ...  char_freq_;  char_freq_(  \\\n",
       "0             0.00            0.00  ...         0.00        0.000   \n",
       "1             0.00            0.94  ...         0.00        0.132   \n",
       "2             0.64            0.25  ...         0.01        0.143   \n",
       "3             0.31            0.63  ...         0.00        0.137   \n",
       "4             0.31            0.63  ...         0.00        0.135   \n",
       "\n",
       "   char_freq_[  char_freq_!  char_freq_$  char_freq_#  \\\n",
       "0          0.0        0.778        0.000        0.000   \n",
       "1          0.0        0.372        0.180        0.048   \n",
       "2          0.0        0.276        0.184        0.010   \n",
       "3          0.0        0.137        0.000        0.000   \n",
       "4          0.0        0.135        0.000        0.000   \n",
       "\n",
       "   capital_run_length_average  capital_run_length_longest  \\\n",
       "0                       3.756                          61   \n",
       "1                       5.114                         101   \n",
       "2                       9.821                         485   \n",
       "3                       3.537                          40   \n",
       "4                       3.537                          40   \n",
       "\n",
       "   capital_run_length_total  class  \n",
       "0                       278      1  \n",
       "1                      1028      1  \n",
       "2                      2259      1  \n",
       "3                       191      1  \n",
       "4                       191      1  \n",
       "\n",
       "[5 rows x 58 columns]"
      ]
     },
     "execution_count": 4,
     "metadata": {},
     "output_type": "execute_result"
    }
   ],
   "source": [
    "varnames = pd.read_csv(\"https://archive.ics.uci.edu/ml/machine-learning-databases/spambase/spambase.names\",\n",
    "                  sep=\":\",\n",
    "                  skiprows=33,\n",
    "                  names = [\"name\",\"type\"],\n",
    "                  header=None)\n",
    "varnames = list(  varnames[\"name\"])+[\"class\"] \n",
    "\n",
    "data = pd.read_csv(\"https://archive.ics.uci.edu/ml/machine-learning-databases/spambase/spambase.data\",\n",
    "                  sep=\",\",\n",
    "                  names = varnames,\n",
    "                  header=None)\n",
    "\n",
    "data.head()"
   ]
  },
  {
   "cell_type": "code",
   "execution_count": 5,
   "metadata": {
    "colab": {
     "base_uri": "https://localhost:8080/"
    },
    "id": "7a7G8sG5R5_L",
    "outputId": "f88fb6e8-58c7-49c1-b7a6-c35fd9532067"
   },
   "outputs": [
    {
     "name": "stdout",
     "output_type": "stream",
     "text": [
      "Taille de X :  (4601, 57)\n",
      "Longueur de Y :  (4601,)\n"
     ]
    }
   ],
   "source": [
    "data_np = data.to_numpy()\n",
    "\n",
    "\n",
    "# Avec sélection de 3 classes\n",
    "X = data_np[:,:-1]\n",
    "print(\"Taille de X : \",X.shape)\n",
    "Y = data_np[:,-1]\n",
    "print(\"Longueur de Y : \", Y.shape)"
   ]
  },
  {
   "cell_type": "markdown",
   "metadata": {
    "id": "PjnC77-nR1xd"
   },
   "source": [
    "## Statistiques descriptives"
   ]
  },
  {
   "cell_type": "code",
   "execution_count": 5,
   "metadata": {
    "colab": {
     "base_uri": "https://localhost:8080/",
     "height": 394
    },
    "id": "tZGi4KWLR_JP",
    "outputId": "e9722814-78e5-4f49-e7d2-13deb0db4b00"
   },
   "outputs": [
    {
     "data": {
      "text/plain": [
       "Text(0.5, 1.0, 'Répartition du type de messages')"
      ]
     },
     "execution_count": 5,
     "metadata": {},
     "output_type": "execute_result"
    },
    {
     "data": {
      "image/png": "[encoded data removed]",
      "text/plain": [
       "<Figure size 432x288 with 1 Axes>"
      ]
     },
     "metadata": {
      "needs_background": "light"
     },
     "output_type": "display_data"
    }
   ],
   "source": [
    "sns.countplot(x=\"class\",data=data,palette=\"Blues_d\")\n",
    "plt.title(\"Répartition du type de messages\")"
   ]
  },
  {
   "cell_type": "code",
   "execution_count": 6,
   "metadata": {
    "colab": {
     "base_uri": "https://localhost:8080/",
     "height": 381
    },
    "id": "vEdnCjr7SCky",
    "outputId": "e221afa4-43ef-4aa9-b6ce-a59993d4904c"
   },
   "outputs": [
    {
     "data": {
      "text/plain": [
       "Text(0, 0.5, 'PC2 (6.0%)')"
      ]
     },
     "execution_count": 6,
     "metadata": {},
     "output_type": "execute_result"
    },
    {
     "data": {
      "image/png": "[encoded data removed]",
      "text/plain": [
       "<Figure size 432x288 with 1 Axes>"
      ]
     },
     "metadata": {
      "needs_background": "light"
     },
     "output_type": "display_data"
    }
   ],
   "source": [
    "from sklearn.decomposition import PCA\n",
    "\n",
    "\n",
    "scaler = StandardScaler()\n",
    "X_sc = scaler.fit_transform(X)\n",
    "\n",
    "pca = PCA(n_components=2)\n",
    "pca.fit(X_sc)\n",
    "\n",
    "PC = pca.transform(X_sc)\n",
    "\n",
    "d = {'PC1': PC[:,0], 'PC2': PC[:,1], 'categorie':Y}\n",
    "df = pd.DataFrame(data=d)\n",
    "\n",
    "sns.scatterplot(x=\"PC1\",y=\"PC2\",hue=\"categorie\",data = df)\n",
    "plt.xlabel(\"PC1 (\"+str(round(pca.explained_variance_ratio_[0]*100))+\"%)\" , size = 12 ) \n",
    "plt.ylabel( \"PC2 (\"+str(round(pca.explained_variance_ratio_[1]*100))+\"%)\"  , size = 12 ) "
   ]
  },
  {
   "cell_type": "markdown",
   "metadata": {
    "id": "inxUYdcKmlX2"
   },
   "source": [
    "Un premier exemple de construction d'un arbre de classification. On commence comme d'habitude à générer un ensemble d'apprentissage et un ensemble de test. L'argument random_state permet de fixer la graine du générateur pseudo-aléatoire. \n"
   ]
  },
  {
   "cell_type": "code",
   "execution_count": 7,
   "metadata": {
    "id": "DuF5JHJOmmTs"
   },
   "outputs": [],
   "source": [
    "X_train, X_test, y_train, y_test = train_test_split(X, Y, test_size=0.33, random_state=42)\n",
    "\n",
    "scaler = StandardScaler()\n",
    "X_train_sc = scaler.fit_transform(X_train)\n",
    "X_test_sc = scaler.transform(X_test)"
   ]
  },
  {
   "cell_type": "markdown",
   "metadata": {
    "id": "NJx4D9ONnv8K"
   },
   "source": [
    "### 1- Ajuster un modèle d'arbre de decision de profendeur 3 entre X_train et y_train\n",
    "\n",
    "Hint: utiliser la fonction DecisionTreeClassifier"
   ]
  },
  {
   "cell_type": "code",
   "execution_count": 2,
   "metadata": {
    "id": "0hP15NLBmodz"
   },
   "outputs": [],
   "source": [
    "############# code ici"
   ]
  },
  {
   "cell_type": "markdown",
   "metadata": {},
   "source": [
    "#### 1-1 Représenter l'arbre obtenu"
   ]
  },
  {
   "cell_type": "markdown",
   "metadata": {
    "id": "idJtiukSnOjo"
   },
   "source": [
    "On peut alors représenter l'arbre obtenu. Dans chaque noeud, on retrouve la règle de coupure, la vleur de l'indice de Gini, le nombre d'observations et, dans \"value\" le nombre d'individus de la classe ham et celui de la classe spam. \n",
    "Plus la case est orange et plus la proportion de ham est forte et inversement plus la feuille est bleue et plus la proportion de spam est forte. \n",
    "Rq : ces proportions sont calculées sur l'ensemble d'apprentissage. "
   ]
  },
  {
   "cell_type": "code",
   "execution_count": 1,
   "metadata": {
    "colab": {
     "base_uri": "https://localhost:8080/",
     "height": 1000
    },
    "id": "XEoEi6MimtU5",
    "outputId": "8cc6dc8c-ec21-4946-d9aa-d9768099f30c"
   },
   "outputs": [],
   "source": [
    "########### code ici"
   ]
  },
  {
   "cell_type": "markdown",
   "metadata": {},
   "source": [
    "#### 1-2 Utiliser le modèle pour faire les prédictions et evaluer le modèle"
   ]
  },
  {
   "cell_type": "markdown",
   "metadata": {
    "id": "StrLFDSrrYpV"
   },
   "source": [
    "##### Critères performance\n",
    "\n",
    "    Accuracy = proportion d'individus bien classés (toutes classes confondues)\n",
    "\n",
    "    Precision : proportion d'individus bien classés dans a classe \"positive\" . Dans le cas des spam la classe positive devrait être la classe des spams. \n",
    "\n",
    "    Ici, une liste : https://blog.exsilio.com/all/accuracy-precision-recall-f1-score-interpretation-of-performance-measures/\n"
   ]
  },
  {
   "cell_type": "code",
   "execution_count": null,
   "metadata": {},
   "outputs": [],
   "source": [
    "########## code ici"
   ]
  },
  {
   "cell_type": "markdown",
   "metadata": {},
   "source": [
    "### 2- Selectionner la profendeur maximum optimale de l'arbre \n",
    "Hint: utiliser la validation croisé en faisant varier la profendeur. Au final vous obtiendrez un critère de performance pour chaque valeur de profendeur. Vous pouvez faire un graphique dont les abscisses et les ordonnées representent les profendeurs et les critères, respectivement. "
   ]
  },
  {
   "cell_type": "code",
   "execution_count": 3,
   "metadata": {},
   "outputs": [],
   "source": [
    "########### code ici "
   ]
  },
  {
   "cell_type": "markdown",
   "metadata": {},
   "source": [
    "### 3- Utiliser la fonction prédéfinie GridSearchCV et faire varier les hyper-paramètres: profendeur maximum d'arbre, nombre minimum d'observation par feuille et  le splitter"
   ]
  },
  {
   "cell_type": "code",
   "execution_count": 7,
   "metadata": {
    "id": "Pb7tOgQy9_c_"
   },
   "outputs": [],
   "source": [
    "# Generation de B train/validation ensemble\n",
    "B = 30\n",
    "cv = ShuffleSplit(n_splits=B, test_size=0.3, random_state=0)\n",
    "\n",
    "########### code ici"
   ]
  },
  {
   "cell_type": "markdown",
   "metadata": {},
   "source": [
    "### 4- Retrouver le meilleur modèle et valider le dans l'ensemble test (critères de validation + matrice de confusion + courbe ROC)"
   ]
  },
  {
   "cell_type": "code",
   "execution_count": 8,
   "metadata": {
    "colab": {
     "base_uri": "https://localhost:8080/"
    },
    "id": "cOXl8lWa9tq-",
    "outputId": "6da33271-b4c6-4b17-e8b9-a1738a02087f"
   },
   "outputs": [],
   "source": [
    "########## code ici"
   ]
  },
  {
   "cell_type": "markdown",
   "metadata": {
    "id": "PqZqIaxvBJBe"
   },
   "source": [
    "### 5- Comparer avec l'algorithme des plus proches voisins\n",
    "Hint: il faut faire la validation croisée sélectionner les hyper parameteres! vous pouver utiliser la fonction GridSearchCV "
   ]
  },
  {
   "cell_type": "code",
   "execution_count": 9,
   "metadata": {
    "colab": {
     "base_uri": "https://localhost:8080/"
    },
    "id": "WJHprcEMBLqQ",
    "outputId": "a4d04e0a-2592-4f30-889e-48ff9a355792"
   },
   "outputs": [],
   "source": [
    "############## code ici pour la validation croisée "
   ]
  },
  {
   "cell_type": "code",
   "execution_count": null,
   "metadata": {},
   "outputs": [],
   "source": [
    "############## code ici pour la comparaison"
   ]
  },
  {
   "cell_type": "markdown",
   "metadata": {
    "id": "PtrGoUVxB4FT"
   },
   "source": [
    "# Situation de grande dimension\n",
    "\n",
    "Dans ce jeu de données, on a 57 variables. Pour se mettre en situation de grande dimension avec p (nombre de variables) de l'ordre de n (nombre d'observations), on peut par exemple générer un ensemble d'apprentissage de 50 observations. [solution 1]\n",
    "\n",
    "L'ensemble de test sert uniquement à la validation des algorithmes. On peut donc garder le reste des observations dans l'ensemble de test. \n",
    "\n",
    "On pourrait aussi tirer les observation de l'ensemble d'apprentissage dans l'ensemble d'apprentissage de la première partie pour conserver le mêême ensemble de test pour toutes les questions et ainsi obtenir des résultats comparables. [solution 2]\n",
    "\n",
    "Avec les solutions 1 et 2 on réduit beaucoup la taille de l'ensemble d'apprentissage. Les performances des classifieursvont se dégrader. Mais il sera difficile de savori si la dégradation vient de la réduction du nombre d'exemples disponibles pour entrainer les modèles ou de la grande dimension. \n",
    "\n",
    "Un 3eme solution consiste alors à ajouter des variables générées aléatoirement à la base de données. [solution 3]"
   ]
  },
  {
   "cell_type": "code",
   "execution_count": null,
   "metadata": {
    "id": "fCsCeS-RDxHu"
   },
   "outputs": [],
   "source": [
    "Xt_old = X_train_sc\n",
    "yt_old = y_train"
   ]
  },
  {
   "cell_type": "markdown",
   "metadata": {},
   "source": [
    "### 6- Effectuer les solutions 2 et 3"
   ]
  },
  {
   "cell_type": "code",
   "execution_count": null,
   "metadata": {
    "colab": {
     "base_uri": "https://localhost:8080/"
    },
    "id": "q2nsSoOXB7uz",
    "outputId": "810e4781-9076-456f-e36e-9ece52d7aca5"
   },
   "outputs": [
    {
     "data": {
      "text/plain": [
       "(50, 57)"
      ]
     },
     "execution_count": 62,
     "metadata": {
      "tags": []
     },
     "output_type": "execute_result"
    }
   ],
   "source": [
    "# Solution 1\n",
    "X_train, X_test, y_train, y_test = train_test_split(X, Y, test_size=X.shape[0]-50, random_state=42)\n",
    "scaler = StandardScaler()\n",
    "X_train_sc = scaler.fit_transform(X_train)\n",
    "X_test_sc = scaler.transform(X_test)\n",
    "X_train.shape"
   ]
  },
  {
   "cell_type": "code",
   "execution_count": 10,
   "metadata": {
    "colab": {
     "base_uri": "https://localhost:8080/"
    },
    "id": "SwvzE5odCdOe",
    "outputId": "b2ef27e3-01fb-42d6-bdf7-e5b071b30370"
   },
   "outputs": [],
   "source": [
    "############# code ici pour la solution 2"
   ]
  },
  {
   "cell_type": "code",
   "execution_count": 17,
   "metadata": {
    "id": "3X0FlhzpFoxZ"
   },
   "outputs": [],
   "source": [
    "############# code ici pour la solution 3 "
   ]
  },
  {
   "cell_type": "markdown",
   "metadata": {},
   "source": [
    "Hind: pour génerer une variable de loi normal vous pouvez utiliser la faoction normal dans random"
   ]
  },
  {
   "cell_type": "markdown",
   "metadata": {
    "id": "rp5xhzB6CAos"
   },
   "source": [
    "### 7-Répeter la question 4 et 5 \n",
    "\n",
    "ajusté sur la table de la solution 3 (si les temps de calculs sont longs, vous pouvez réduire la grille des paramètres). \n"
   ]
  },
  {
   "cell_type": "code",
   "execution_count": null,
   "metadata": {},
   "outputs": [],
   "source": [
    "############ code ici"
   ]
  },
  {
   "cell_type": "code",
   "execution_count": 11,
   "metadata": {
    "colab": {
     "base_uri": "https://localhost:8080/",
     "height": 414
    },
    "id": "_MztpKPcHQxJ",
    "outputId": "34206cfe-db8f-4252-ac35-f1d4f2356af4"
   },
   "outputs": [],
   "source": [
    "########### code ici pour la prédiction dans l'ensemble test et calcule des mésures de validation + matrice de confusion"
   ]
  },
  {
   "cell_type": "markdown",
   "metadata": {
    "id": "Sh77LCfqK8je"
   },
   "source": [
    "Conclusion?? "
   ]
  },
  {
   "cell_type": "markdown",
   "metadata": {
    "id": "evC5s3ZYLcWL"
   },
   "source": [
    "# Situation de classes deséquilibrées\n",
    "###  8- Générer un ensemble comportant très peu de spam (1%)"
   ]
  },
  {
   "cell_type": "code",
   "execution_count": 12,
   "metadata": {
    "colab": {
     "base_uri": "https://localhost:8080/"
    },
    "id": "r82qPmwnK7ef",
    "outputId": "3d7d80d0-6e2e-43f0-9ef9-80d7f6982552"
   },
   "outputs": [],
   "source": [
    "########### code ici"
   ]
  },
  {
   "cell_type": "markdown",
   "metadata": {},
   "source": [
    "### 9- Répéter la question 4 et 5"
   ]
  },
  {
   "cell_type": "code",
   "execution_count": 13,
   "metadata": {
    "colab": {
     "base_uri": "https://localhost:8080/"
    },
    "id": "mgXGBzgbMY8W",
    "outputId": "6182237e-713f-4ea0-f859-499488f2df79"
   },
   "outputs": [],
   "source": [
    "########## code ici"
   ]
  },
  {
   "cell_type": "code",
   "execution_count": 14,
   "metadata": {
    "colab": {
     "base_uri": "https://localhost:8080/"
    },
    "id": "_3pCNVffMuKM",
    "outputId": "a6948be8-ee8b-467c-da90-bf97687cd66f"
   },
   "outputs": [],
   "source": [
    "########### code ici pour la prédiction dans l'ensemble test et calcule des mésures de validation + matrice de confusion"
   ]
  },
  {
   "cell_type": "markdown",
   "metadata": {
    "id": "Tscld6yiM1eb"
   },
   "source": [
    "Conculsions?"
   ]
  }
 ],
 "metadata": {
  "colab": {
   "collapsed_sections": [],
   "name": "SpamDetection e - mercredi.ipynb",
   "provenance": []
  },
  "kernelspec": {
   "display_name": "Python 3",
   "language": "python",
   "name": "python3"
  },
  "language_info": {
   "codemirror_mode": {
    "name": "ipython",
    "version": 3
   },
   "file_extension": ".py",
   "mimetype": "text/x-python",
   "name": "python",
   "nbconvert_exporter": "python",
   "pygments_lexer": "ipython3",
   "version": "3.7.6"
  }
 },
 "nbformat": 4,
 "nbformat_minor": 1
}
