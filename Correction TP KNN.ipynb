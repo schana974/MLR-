{
 "cells": [
  {
   "cell_type": "markdown",
   "metadata": {
    "id": "Z5E55JGwaLAS"
   },
   "source": [
    "# Détection des attaques DDoS pour la sécurité des réseaux d'entreprise\n",
    "\n",
    "https://asterius.federation.edu.au/csmining.org/cdmc2018/index.php?id=5\n",
    "\n",
    "Cet ensemble de données contient le trafic d'une entreprise dans un scénario d'attaque pendant 24 heures. Pour effectuer l'analyse des données, plus de 70 caractéristiques sont extraites du trafic réseau de toutes les machines de cette organisation.\n",
    "\n",
    "Les données d'apprentissage portent sur deux types : \"Benign\" et \"Attack\". Le comportement normal (Benign) comprend cinq types d'activités quotidiennes des utilisateurs, telles que la vérification des courriels et le transfert de fichiers entre les utilisateurs de l'organisation. L'activité anormale est une attaque DDoS sur une machine, où nous avons étiqueté le trafic comme \"Attack\". Les étiquettes pour les données d'apprentissage ont été placées dans la dernière colonne.\n",
    "\n",
    "Pour les données de test, il s'agit d'un mélange de trafic normal et de trafic d'attaque. Les participants sont censés trouver l'étiquette pour chaque flux (enregistrement) comme \"Benign\" ou \"Attack\". Non disponibles ici.\n",
    "\n",
    "Référence : Ali Ghorbani et Arash Habibi Lashkari, CDMC2018 Dataset : Détection des attaques DDoS pour la sécurité des réseaux d'entreprise, Institut canadien de cybersécurité, Université du Nouveau-Brunswick, http://www.csmining.org/\n"
   ]
  },
  {
   "cell_type": "code",
   "execution_count": 1,
   "metadata": {
    "id": "GVFH18BUaWTv"
   },
   "outputs": [],
   "source": [
    "import numpy as np\n",
    "import pandas as pd\n",
    "import matplotlib.pyplot as plt\n",
    "import seaborn as sns\n",
    "from sklearn.preprocessing import StandardScaler\n",
    "from sklearn.decomposition import PCA\n",
    "from sklearn.model_selection import train_test_split, cross_val_score\n",
    "from sklearn.model_selection import ShuffleSplit, GridSearchCV\n",
    "from sklearn import linear_model\n",
    "from sklearn import neighbors\n",
    "from sklearn.tree import DecisionTreeClassifier, plot_tree \n",
    "from sklearn.metrics import accuracy_score, confusion_matrix, f1_score, recall_score, precision_score"
   ]
  },
  {
   "cell_type": "markdown",
   "metadata": {
    "id": "YgWBvJVjajZ8"
   },
   "source": [
    "## 1 - Importation  et préparation des données\n",
    "\n"
   ]
  },
  {
   "cell_type": "code",
   "execution_count": 2,
   "metadata": {
    "id": "K4LqhIl3aEor"
   },
   "outputs": [],
   "source": [
    "data = pd.read_csv(\"C:/Users/saido/OneDrive/Bureau/MLR/I/DDoS_attacks.csv\", sep=\",\", header=0)"
   ]
  },
  {
   "cell_type": "code",
   "execution_count": 3,
   "metadata": {},
   "outputs": [
    {
     "data": {
      "text/html": [
       "<div>\n",
       "<style scoped>\n",
       "    .dataframe tbody tr th:only-of-type {\n",
       "        vertical-align: middle;\n",
       "    }\n",
       "\n",
       "    .dataframe tbody tr th {\n",
       "        vertical-align: top;\n",
       "    }\n",
       "\n",
       "    .dataframe thead th {\n",
       "        text-align: right;\n",
       "    }\n",
       "</style>\n",
       "<table border=\"1\" class=\"dataframe\">\n",
       "  <thead>\n",
       "    <tr style=\"text-align: right;\">\n",
       "      <th></th>\n",
       "      <th>Unnamed: 0</th>\n",
       "      <th>Flow Duration</th>\n",
       "      <th>Tot Fwd Pkts</th>\n",
       "      <th>Tot Bwd Pkts</th>\n",
       "      <th>TotLen Fwd Pkts</th>\n",
       "      <th>TotLen Bwd Pkts</th>\n",
       "      <th>Fwd Pkt Len Max</th>\n",
       "      <th>Fwd Pkt Len Min</th>\n",
       "      <th>Fwd Pkt Len Mean</th>\n",
       "      <th>Fwd Pkt Len Std</th>\n",
       "      <th>...</th>\n",
       "      <th>Fwd Seg Size Min</th>\n",
       "      <th>Active Mean</th>\n",
       "      <th>Active Std</th>\n",
       "      <th>Active Max</th>\n",
       "      <th>Active Min</th>\n",
       "      <th>Idle Mean</th>\n",
       "      <th>Idle Std</th>\n",
       "      <th>Idle Max</th>\n",
       "      <th>Idle Min</th>\n",
       "      <th>Label</th>\n",
       "    </tr>\n",
       "  </thead>\n",
       "  <tbody>\n",
       "    <tr>\n",
       "      <th>0</th>\n",
       "      <td>276098</td>\n",
       "      <td>9007362</td>\n",
       "      <td>3</td>\n",
       "      <td>0</td>\n",
       "      <td>0</td>\n",
       "      <td>0</td>\n",
       "      <td>0</td>\n",
       "      <td>0</td>\n",
       "      <td>0.000000</td>\n",
       "      <td>0.000000</td>\n",
       "      <td>...</td>\n",
       "      <td>28</td>\n",
       "      <td>3006088.0</td>\n",
       "      <td>0.0</td>\n",
       "      <td>3006088</td>\n",
       "      <td>3006088</td>\n",
       "      <td>6001274.0</td>\n",
       "      <td>0.0</td>\n",
       "      <td>6001274</td>\n",
       "      <td>6001274</td>\n",
       "      <td>Benign</td>\n",
       "    </tr>\n",
       "    <tr>\n",
       "      <th>1</th>\n",
       "      <td>107561</td>\n",
       "      <td>40134</td>\n",
       "      <td>1</td>\n",
       "      <td>1</td>\n",
       "      <td>78</td>\n",
       "      <td>160</td>\n",
       "      <td>78</td>\n",
       "      <td>78</td>\n",
       "      <td>78.000000</td>\n",
       "      <td>0.000000</td>\n",
       "      <td>...</td>\n",
       "      <td>8</td>\n",
       "      <td>0.0</td>\n",
       "      <td>0.0</td>\n",
       "      <td>0</td>\n",
       "      <td>0</td>\n",
       "      <td>0.0</td>\n",
       "      <td>0.0</td>\n",
       "      <td>0</td>\n",
       "      <td>0</td>\n",
       "      <td>Benign</td>\n",
       "    </tr>\n",
       "    <tr>\n",
       "      <th>2</th>\n",
       "      <td>349558</td>\n",
       "      <td>361</td>\n",
       "      <td>1</td>\n",
       "      <td>1</td>\n",
       "      <td>48</td>\n",
       "      <td>64</td>\n",
       "      <td>48</td>\n",
       "      <td>48</td>\n",
       "      <td>48.000000</td>\n",
       "      <td>0.000000</td>\n",
       "      <td>...</td>\n",
       "      <td>8</td>\n",
       "      <td>0.0</td>\n",
       "      <td>0.0</td>\n",
       "      <td>0</td>\n",
       "      <td>0</td>\n",
       "      <td>0.0</td>\n",
       "      <td>0.0</td>\n",
       "      <td>0</td>\n",
       "      <td>0</td>\n",
       "      <td>Benign</td>\n",
       "    </tr>\n",
       "    <tr>\n",
       "      <th>3</th>\n",
       "      <td>162685</td>\n",
       "      <td>5008</td>\n",
       "      <td>11</td>\n",
       "      <td>1</td>\n",
       "      <td>8117</td>\n",
       "      <td>0</td>\n",
       "      <td>1460</td>\n",
       "      <td>0</td>\n",
       "      <td>737.909091</td>\n",
       "      <td>723.306499</td>\n",
       "      <td>...</td>\n",
       "      <td>20</td>\n",
       "      <td>0.0</td>\n",
       "      <td>0.0</td>\n",
       "      <td>0</td>\n",
       "      <td>0</td>\n",
       "      <td>0.0</td>\n",
       "      <td>0.0</td>\n",
       "      <td>0</td>\n",
       "      <td>0</td>\n",
       "      <td>Benign</td>\n",
       "    </tr>\n",
       "    <tr>\n",
       "      <th>4</th>\n",
       "      <td>224641</td>\n",
       "      <td>931</td>\n",
       "      <td>1</td>\n",
       "      <td>1</td>\n",
       "      <td>42</td>\n",
       "      <td>102</td>\n",
       "      <td>42</td>\n",
       "      <td>42</td>\n",
       "      <td>42.000000</td>\n",
       "      <td>0.000000</td>\n",
       "      <td>...</td>\n",
       "      <td>8</td>\n",
       "      <td>0.0</td>\n",
       "      <td>0.0</td>\n",
       "      <td>0</td>\n",
       "      <td>0</td>\n",
       "      <td>0.0</td>\n",
       "      <td>0.0</td>\n",
       "      <td>0</td>\n",
       "      <td>0</td>\n",
       "      <td>Benign</td>\n",
       "    </tr>\n",
       "    <tr>\n",
       "      <th>...</th>\n",
       "      <td>...</td>\n",
       "      <td>...</td>\n",
       "      <td>...</td>\n",
       "      <td>...</td>\n",
       "      <td>...</td>\n",
       "      <td>...</td>\n",
       "      <td>...</td>\n",
       "      <td>...</td>\n",
       "      <td>...</td>\n",
       "      <td>...</td>\n",
       "      <td>...</td>\n",
       "      <td>...</td>\n",
       "      <td>...</td>\n",
       "      <td>...</td>\n",
       "      <td>...</td>\n",
       "      <td>...</td>\n",
       "      <td>...</td>\n",
       "      <td>...</td>\n",
       "      <td>...</td>\n",
       "      <td>...</td>\n",
       "      <td>...</td>\n",
       "    </tr>\n",
       "    <tr>\n",
       "      <th>92990</th>\n",
       "      <td>323943</td>\n",
       "      <td>377</td>\n",
       "      <td>3</td>\n",
       "      <td>0</td>\n",
       "      <td>77</td>\n",
       "      <td>0</td>\n",
       "      <td>46</td>\n",
       "      <td>0</td>\n",
       "      <td>25.666667</td>\n",
       "      <td>23.459184</td>\n",
       "      <td>...</td>\n",
       "      <td>20</td>\n",
       "      <td>0.0</td>\n",
       "      <td>0.0</td>\n",
       "      <td>0</td>\n",
       "      <td>0</td>\n",
       "      <td>0.0</td>\n",
       "      <td>0.0</td>\n",
       "      <td>0</td>\n",
       "      <td>0</td>\n",
       "      <td>Benign</td>\n",
       "    </tr>\n",
       "    <tr>\n",
       "      <th>92991</th>\n",
       "      <td>53341</td>\n",
       "      <td>57</td>\n",
       "      <td>2</td>\n",
       "      <td>0</td>\n",
       "      <td>0</td>\n",
       "      <td>0</td>\n",
       "      <td>0</td>\n",
       "      <td>0</td>\n",
       "      <td>0.000000</td>\n",
       "      <td>0.000000</td>\n",
       "      <td>...</td>\n",
       "      <td>20</td>\n",
       "      <td>0.0</td>\n",
       "      <td>0.0</td>\n",
       "      <td>0</td>\n",
       "      <td>0</td>\n",
       "      <td>0.0</td>\n",
       "      <td>0.0</td>\n",
       "      <td>0</td>\n",
       "      <td>0</td>\n",
       "      <td>Benign</td>\n",
       "    </tr>\n",
       "    <tr>\n",
       "      <th>92992</th>\n",
       "      <td>18323</td>\n",
       "      <td>208188</td>\n",
       "      <td>11</td>\n",
       "      <td>11</td>\n",
       "      <td>1195</td>\n",
       "      <td>1969</td>\n",
       "      <td>648</td>\n",
       "      <td>0</td>\n",
       "      <td>108.636364</td>\n",
       "      <td>196.115411</td>\n",
       "      <td>...</td>\n",
       "      <td>32</td>\n",
       "      <td>0.0</td>\n",
       "      <td>0.0</td>\n",
       "      <td>0</td>\n",
       "      <td>0</td>\n",
       "      <td>0.0</td>\n",
       "      <td>0.0</td>\n",
       "      <td>0</td>\n",
       "      <td>0</td>\n",
       "      <td>Benign</td>\n",
       "    </tr>\n",
       "    <tr>\n",
       "      <th>92993</th>\n",
       "      <td>34323</td>\n",
       "      <td>5196649</td>\n",
       "      <td>4</td>\n",
       "      <td>4</td>\n",
       "      <td>97</td>\n",
       "      <td>232</td>\n",
       "      <td>97</td>\n",
       "      <td>0</td>\n",
       "      <td>24.250000</td>\n",
       "      <td>48.500000</td>\n",
       "      <td>...</td>\n",
       "      <td>20</td>\n",
       "      <td>0.0</td>\n",
       "      <td>0.0</td>\n",
       "      <td>0</td>\n",
       "      <td>0</td>\n",
       "      <td>0.0</td>\n",
       "      <td>0.0</td>\n",
       "      <td>0</td>\n",
       "      <td>0</td>\n",
       "      <td>Benign</td>\n",
       "    </tr>\n",
       "    <tr>\n",
       "      <th>92994</th>\n",
       "      <td>143902</td>\n",
       "      <td>19</td>\n",
       "      <td>1</td>\n",
       "      <td>1</td>\n",
       "      <td>0</td>\n",
       "      <td>0</td>\n",
       "      <td>0</td>\n",
       "      <td>0</td>\n",
       "      <td>0.000000</td>\n",
       "      <td>0.000000</td>\n",
       "      <td>...</td>\n",
       "      <td>20</td>\n",
       "      <td>0.0</td>\n",
       "      <td>0.0</td>\n",
       "      <td>0</td>\n",
       "      <td>0</td>\n",
       "      <td>0.0</td>\n",
       "      <td>0.0</td>\n",
       "      <td>0</td>\n",
       "      <td>0</td>\n",
       "      <td>Benign</td>\n",
       "    </tr>\n",
       "  </tbody>\n",
       "</table>\n",
       "<p>92995 rows × 68 columns</p>\n",
       "</div>"
      ],
      "text/plain": [
       "       Unnamed: 0  Flow Duration  Tot Fwd Pkts  Tot Bwd Pkts  TotLen Fwd Pkts  \\\n",
       "0          276098        9007362             3             0                0   \n",
       "1          107561          40134             1             1               78   \n",
       "2          349558            361             1             1               48   \n",
       "3          162685           5008            11             1             8117   \n",
       "4          224641            931             1             1               42   \n",
       "...           ...            ...           ...           ...              ...   \n",
       "92990      323943            377             3             0               77   \n",
       "92991       53341             57             2             0                0   \n",
       "92992       18323         208188            11            11             1195   \n",
       "92993       34323        5196649             4             4               97   \n",
       "92994      143902             19             1             1                0   \n",
       "\n",
       "       TotLen Bwd Pkts  Fwd Pkt Len Max  Fwd Pkt Len Min  Fwd Pkt Len Mean  \\\n",
       "0                    0                0                0          0.000000   \n",
       "1                  160               78               78         78.000000   \n",
       "2                   64               48               48         48.000000   \n",
       "3                    0             1460                0        737.909091   \n",
       "4                  102               42               42         42.000000   \n",
       "...                ...              ...              ...               ...   \n",
       "92990                0               46                0         25.666667   \n",
       "92991                0                0                0          0.000000   \n",
       "92992             1969              648                0        108.636364   \n",
       "92993              232               97                0         24.250000   \n",
       "92994                0                0                0          0.000000   \n",
       "\n",
       "       Fwd Pkt Len Std  ...  Fwd Seg Size Min  Active Mean  Active Std  \\\n",
       "0             0.000000  ...                28    3006088.0         0.0   \n",
       "1             0.000000  ...                 8          0.0         0.0   \n",
       "2             0.000000  ...                 8          0.0         0.0   \n",
       "3           723.306499  ...                20          0.0         0.0   \n",
       "4             0.000000  ...                 8          0.0         0.0   \n",
       "...                ...  ...               ...          ...         ...   \n",
       "92990        23.459184  ...                20          0.0         0.0   \n",
       "92991         0.000000  ...                20          0.0         0.0   \n",
       "92992       196.115411  ...                32          0.0         0.0   \n",
       "92993        48.500000  ...                20          0.0         0.0   \n",
       "92994         0.000000  ...                20          0.0         0.0   \n",
       "\n",
       "       Active Max  Active Min  Idle Mean  Idle Std  Idle Max  Idle Min   Label  \n",
       "0         3006088     3006088  6001274.0       0.0   6001274   6001274  Benign  \n",
       "1               0           0        0.0       0.0         0         0  Benign  \n",
       "2               0           0        0.0       0.0         0         0  Benign  \n",
       "3               0           0        0.0       0.0         0         0  Benign  \n",
       "4               0           0        0.0       0.0         0         0  Benign  \n",
       "...           ...         ...        ...       ...       ...       ...     ...  \n",
       "92990           0           0        0.0       0.0         0         0  Benign  \n",
       "92991           0           0        0.0       0.0         0         0  Benign  \n",
       "92992           0           0        0.0       0.0         0         0  Benign  \n",
       "92993           0           0        0.0       0.0         0         0  Benign  \n",
       "92994           0           0        0.0       0.0         0         0  Benign  \n",
       "\n",
       "[92995 rows x 68 columns]"
      ]
     },
     "execution_count": 3,
     "metadata": {},
     "output_type": "execute_result"
    }
   ],
   "source": [
    "data"
   ]
  },
  {
   "cell_type": "code",
   "execution_count": 4,
   "metadata": {
    "colab": {
     "base_uri": "https://localhost:8080/"
    },
    "id": "0LLtPFPrazR5",
    "outputId": "0fa91595-e156-430f-9300-9a250fb13a85"
   },
   "outputs": [
    {
     "name": "stdout",
     "output_type": "stream",
     "text": [
      "(92995, 68)\n"
     ]
    }
   ],
   "source": [
    "print(data.shape)"
   ]
  },
  {
   "cell_type": "markdown",
   "metadata": {
    "id": "FcINQBWMa9Dv"
   },
   "source": [
    " On retire la colonne des numéros d'observation et on vérifie qu'il n'y a pas de variables de variance nulle. \n",
    "\n",
    "Si la variance est nulle, ça signifie que les valeurs sont les mêmes pour tous les individus, la variable n'apporte donc pas d'information utile. \n"
   ]
  },
  {
   "cell_type": "code",
   "execution_count": 5,
   "metadata": {
    "colab": {
     "base_uri": "https://localhost:8080/"
    },
    "id": "UZje4YFWazKI",
    "outputId": "29d5546a-d857-4d5a-b8d4-52ace6aee0da"
   },
   "outputs": [
    {
     "name": "stdout",
     "output_type": "stream",
     "text": [
      "(66,)\n",
      "Variables avec écart-type nul :  (array([], dtype=int64),)\n",
      "Variables avec écart-type non défini :  (array([], dtype=int64),)\n"
     ]
    }
   ],
   "source": [
    "data1 = data.drop(columns=[\"Unnamed: 0\"])\n",
    "\n",
    "sd = data1.std()\n",
    "print(sd.shape)\n",
    "print(\"Variables avec écart-type nul : \",np.where(sd==0))\n",
    "print(\"Variables avec écart-type non défini : \",np.where(np.isnan(sd)))\n"
   ]
  },
  {
   "cell_type": "markdown",
   "metadata": {
    "id": "wqz53ViHbcBK"
   },
   "source": [
    "Le graphique suivant montre que les attaques sont très minoritaires dans la base de données. \n"
   ]
  },
  {
   "cell_type": "code",
   "execution_count": 6,
   "metadata": {
    "colab": {
     "base_uri": "https://localhost:8080/",
     "height": 297
    },
    "id": "ZcGP9ChpbmCw",
    "outputId": "4cd01083-bfb3-4b41-e4ea-fef89da55798"
   },
   "outputs": [
    {
     "data": {
      "text/plain": [
       "<matplotlib.axes._subplots.AxesSubplot at 0x1f02347e908>"
      ]
     },
     "execution_count": 6,
     "metadata": {},
     "output_type": "execute_result"
    },
    {
     "data": {
      "image/png": "[encoded data removed]",
      "text/plain": [
       "<Figure size 432x288 with 1 Axes>"
      ]
     },
     "metadata": {
      "needs_background": "light"
     },
     "output_type": "display_data"
    }
   ],
   "source": [
    "sns.countplot(x=\"Label\",data=data1,palette=\"Blues_d\")"
   ]
  },
  {
   "cell_type": "markdown",
   "metadata": {
    "id": "OIfevnfRboKT"
   },
   "source": [
    "Tranformation des données en tableau numpy et préparation pour le Machine Learning. \n"
   ]
  },
  {
   "cell_type": "code",
   "execution_count": 7,
   "metadata": {
    "colab": {
     "base_uri": "https://localhost:8080/"
    },
    "id": "KYwFwtzxbNvl",
    "outputId": "55fe7773-7016-4ccc-ac90-618177e2a1ed"
   },
   "outputs": [
    {
     "name": "stdout",
     "output_type": "stream",
     "text": [
      "Pourcentage d'attaque dans la base complète :  0.037\n",
      "Pourcentage d'attaque dans la base d'apprentissage :  0.037\n"
     ]
    }
   ],
   "source": [
    "data_np = data1.to_numpy()\n",
    "\n",
    "X = data_np[:,:-1]\n",
    "Y = data_np[:,-1]\n",
    "\n",
    "## Préparation des données pour le machine learning\n",
    "X_train, X_test, y_train, y_test = train_test_split(X, Y, test_size=0.7, random_state=42)\n",
    "\n",
    "print(\"Pourcentage d'attaque dans la base complète : \",np.round(np.mean(Y==\"Attack\"),3))\n",
    "print(\"Pourcentage d'attaque dans la base d'apprentissage : \",np.round(np.mean(y_train==\"Attack\"),3))"
   ]
  },
  {
   "cell_type": "markdown",
   "metadata": {
    "id": "MwwDhc3Y15o9"
   },
   "source": [
    "La fonction StandardScaler() permet de normaliser les données. Par défaut elle centre (retire la moyenne) et réduit (divise par l'écart-type). \n",
    "\n",
    "Ici on utilise les moyennes et les écarts-type de l'ensemble d'apprentissage qu'on applique aussi à l'ensemble de test. "
   ]
  },
  {
   "cell_type": "code",
   "execution_count": 8,
   "metadata": {
    "id": "uuClJX6pbyt7"
   },
   "outputs": [],
   "source": [
    "# Pre-processing\n",
    "scaler = StandardScaler()\n",
    "X_train_sc = scaler.fit_transform(X_train)\n",
    "X_test_sc = scaler.transform(X_test)"
   ]
  },
  {
   "cell_type": "markdown",
   "metadata": {
    "id": "L3UU-C9obTWz"
   },
   "source": [
    "Visualisation sur le premier plan de l'ACP"
   ]
  },
  {
   "cell_type": "code",
   "execution_count": 9,
   "metadata": {
    "colab": {
     "base_uri": "https://localhost:8080/",
     "height": 333
    },
    "id": "Y51h0FbmbRbB",
    "outputId": "919b3195-e7d2-4a8a-8cdf-c24c33221564"
   },
   "outputs": [
    {
     "name": "stdout",
     "output_type": "stream",
     "text": [
      "(27898, 2)\n",
      "(27898,)\n"
     ]
    },
    {
     "data": {
      "text/plain": [
       "<matplotlib.axes._subplots.AxesSubplot at 0x1f02384e248>"
      ]
     },
     "execution_count": 9,
     "metadata": {},
     "output_type": "execute_result"
    },
    {
     "data": {
      "image/png": "[encoded data removed]",
      "text/plain": [
       "<Figure size 432x288 with 1 Axes>"
      ]
     },
     "metadata": {
      "needs_background": "light"
     },
     "output_type": "display_data"
    }
   ],
   "source": [
    "pca = PCA(n_components=2)\n",
    "pca.fit(X_train_sc)\n",
    "\n",
    "PC = pca.transform(X_train_sc)\n",
    "print(PC.shape)\n",
    "print(y_train.shape)\n",
    "\n",
    "d = {'PC1': PC[:,0], 'PC2': PC[:,1], 'Label':y_train}\n",
    "df = pd.DataFrame(data=d)\n",
    "\n",
    "sns.scatterplot(x=\"PC1\",y=\"PC2\",hue=\"Label\",data = df)"
   ]
  },
  {
   "cell_type": "markdown",
   "metadata": {
    "id": "rkgqm8A7cJiR"
   },
   "source": [
    "## Algorithme des plus proches voisins\n",
    "\n",
    "Un premier appel, sans optimisation du nombre de voisins. "
   ]
  },
  {
   "cell_type": "code",
   "execution_count": 10,
   "metadata": {
    "id": "rdZtUG6x5WJp"
   },
   "outputs": [],
   "source": [
    "knn = neighbors.KNeighborsClassifier(n_neighbors=20)\n",
    "knn.fit(X_train_sc,y_train)\n",
    "y_pred = knn.predict(X_test_sc)"
   ]
  },
  {
   "cell_type": "code",
   "execution_count": 11,
   "metadata": {},
   "outputs": [
    {
     "name": "stdout",
     "output_type": "stream",
     "text": [
      "Precision: 0.988 recall: 0.988 f1-score: 0.988\n"
     ]
    }
   ],
   "source": [
    "f1 = f1_score(y_test,y_pred,pos_label=\"Attack\")\n",
    "r = recall_score(y_test,y_pred,pos_label=\"Attack\")\n",
    "p = precision_score(y_test,y_pred,pos_label=\"Attack\")\n",
    "print(\"Precision:\"%d, np.round(p,3), \"recall:\"%d, np.round(r,3), \"f1-score:\"%d, np.round(f1,3))"
   ]
  },
  {
   "cell_type": "markdown",
   "metadata": {
    "id": "7C--w2D15oeD"
   },
   "source": [
    "On affiche la matrice de confusion"
   ]
  },
  {
   "cell_type": "code",
   "execution_count": 12,
   "metadata": {
    "colab": {
     "base_uri": "https://localhost:8080/"
    },
    "id": "lx6Cq4_U5rdw",
    "outputId": "93583eb4-1205-4cd6-e17d-2ff8ebc6e93b"
   },
   "outputs": [
    {
     "name": "stdout",
     "output_type": "stream",
     "text": [
      "Confusion matrix : \n",
      "[[ 2411    30]\n",
      " [   30 62626]]\n"
     ]
    }
   ],
   "source": [
    "cm = confusion_matrix(y_test,y_pred)\n",
    "print(\"Confusion matrix : \")\n",
    "print(cm)"
   ]
  },
  {
   "cell_type": "code",
   "execution_count": 13,
   "metadata": {},
   "outputs": [
    {
     "data": {
      "text/plain": [
       "<sklearn.metrics._plot.confusion_matrix.ConfusionMatrixDisplay at 0x1f0238782c8>"
      ]
     },
     "execution_count": 13,
     "metadata": {},
     "output_type": "execute_result"
    },
    {
     "data": {
      "image/png": "[encoded data removed]",
      "text/plain": [
       "<Figure size 432x288 with 2 Axes>"
      ]
     },
     "metadata": {
      "needs_background": "light"
     },
     "output_type": "display_data"
    }
   ],
   "source": [
    "from sklearn.metrics import ConfusionMatrixDisplay\n",
    "ConfusionMatrixDisplay(cm, display_labels=[\"Attack\",\"Begnin\"]).plot()"
   ]
  },
  {
   "cell_type": "markdown",
   "metadata": {
    "id": "x1ZU-cmJ5sDN"
   },
   "source": [
    "On trace une courbe ROC"
   ]
  },
  {
   "cell_type": "code",
   "execution_count": 14,
   "metadata": {
    "colab": {
     "base_uri": "https://localhost:8080/",
     "height": 279
    },
    "id": "J_JoKhw78UC4",
    "outputId": "3513e20a-d24f-4191-d36c-8c8e930201ac"
   },
   "outputs": [
    {
     "data": {
      "image/png": "[encoded data removed]",
      "text/plain": [
       "<Figure size 432x288 with 1 Axes>"
      ]
     },
     "metadata": {
      "needs_background": "light"
     },
     "output_type": "display_data"
    }
   ],
   "source": [
    "from sklearn.metrics import plot_roc_curve\n",
    "\n",
    "plot_roc_curve(knn, X_test_sc, y_test)  \n",
    "plt.show()"
   ]
  },
  {
   "cell_type": "markdown",
   "metadata": {
    "id": "Rn_iYtfh8b_C"
   },
   "source": [
    "On observe qu'on obtient de très bons résultats : l'aire sous la courbe ROC est égale à 1 et le nombre l'intrusions mal classées est faible. Cependant, on a plus d'erreur dans la classe des attaques.\n",
    "\n",
    "On peut chercher à optimiser le nombre de voisins en utilisant, par exemple, la fonction GridSearchCV.\n"
   ]
  },
  {
   "cell_type": "markdown",
   "metadata": {},
   "source": [
    "#### Validation croisée à la main "
   ]
  },
  {
   "cell_type": "code",
   "execution_count": 39,
   "metadata": {},
   "outputs": [],
   "source": [
    "from sklearn.model_selection import KFold\n",
    "B = 5\n",
    "cv = KFold(n_splits=B, random_state=None, shuffle=True)\n",
    "n_voisins = np.arange(1,20,3)\n",
    "acc = np.zeros((n_voisins.shape[0],B))\n",
    "accuracy_min = np.zeros(n_voisins.shape[0])\n",
    "accuracy_mean = np.zeros(n_voisins.shape[0])\n",
    "accuracy_max = np.zeros(n_voisins.shape[0])\n",
    "i = 0\n",
    "for K in n_voisins:\n",
    "    folds = cv.split(y_train)\n",
    "    j = 0\n",
    "    for train_index, test_index in folds:\n",
    "        X_train_cv, X_test_cv = X_train_sc[train_index], X_train_sc[test_index]\n",
    "        Y_train_cv, Y_test_cv = y_train[train_index], y_train[test_index]\n",
    "        knn = neighbors.KNeighborsClassifier(n_neighbors = K)\n",
    "        knn.fit(X_train_cv, Y_train_cv)\n",
    "        Y_pred = knn.predict(X_test_cv)\n",
    "        p = precision_score(Y_test_cv, Y_pred, pos_label=\"Attack\")\n",
    "        acc[i,j] = p\n",
    "        j = j+1\n",
    "    i = i+1"
   ]
  },
  {
   "cell_type": "code",
   "execution_count": 40,
   "metadata": {},
   "outputs": [
    {
     "data": {
      "image/png": "[encoded data removed]",
      "text/plain": [
       "<Figure size 432x288 with 1 Axes>"
      ]
     },
     "metadata": {
      "needs_background": "light"
     },
     "output_type": "display_data"
    }
   ],
   "source": [
    "acc_mean = acc.mean(axis = 1)\n",
    "fig, ax = plt.subplots()\n",
    "plt.plot(n_voisins, acc_mean, color = 'b')\n",
    "plt.xlabel(\"Number of neighbors\")\n",
    "plt.ylabel(\"Accuracy\")\n",
    "plt.grid()"
   ]
  },
  {
   "cell_type": "markdown",
   "metadata": {},
   "source": [
    "## Optimisation des hyperparamètres avec la fonction GridSearchCV\n",
    "\n",
    "Ici on fait varier le nombre de voisins, la distance entre les individus et les poids pour l'estimation de la \"moyenne\" (ici la probabilité d'être dans l'une ou l'autre des classes)."
   ]
  },
  {
   "cell_type": "code",
   "execution_count": 17,
   "metadata": {
    "colab": {
     "base_uri": "https://localhost:8080/"
    },
    "id": "m8nwuhzxEzoz",
    "outputId": "cd838626-88aa-4268-e65b-e7cb22d5fea5"
   },
   "outputs": [
    {
     "name": "stdout",
     "output_type": "stream",
     "text": [
      "Meilleur modèle\n",
      "KNeighborsClassifier(algorithm='auto', leaf_size=30, metric='manhattan',\n",
      "                     metric_params=None, n_jobs=None, n_neighbors=1, p=2,\n",
      "                     weights='uniform')\n"
     ]
    }
   ],
   "source": [
    "# Generation de B ensemble d'entrainement/validation \n",
    "B = 5\n",
    "cv = KFold(n_splits=B, random_state=None, shuffle=True)\n",
    "knn = neighbors.KNeighborsClassifier()\n",
    "param_grid = [{'n_neighbors': [1,5,10,20], \n",
    "               'weights': ['uniform','distance'],\n",
    "               'metric': ['euclidean','manhattan']}]\n",
    "# Optimization of the hyperparameters\n",
    "search = GridSearchCV(knn, \n",
    "                      param_grid, \n",
    "                      scoring=\"accuracy\",\n",
    "                      cv=cv,\n",
    "                      n_jobs=-1) # n_jobs=-1 permet d'utiliser tous les processeurs (calcul parallèle)\n",
    "search.fit(X_train_sc,y_train)\n",
    "print('Meilleur modèle')\n",
    "print(search.best_estimator_)"
   ]
  },
  {
   "cell_type": "code",
   "execution_count": null,
   "metadata": {},
   "outputs": [],
   "source": [
    "knn_best = neighbors.KNeighborsClassifier(algorithm='auto', leaf_size=30, metric='manhattan',\n",
    "                     metric_params=None, n_jobs=None, n_neighbors=1, p=2,\n",
    "                     weights='uniform')"
   ]
  },
  {
   "cell_type": "code",
   "execution_count": 20,
   "metadata": {
    "id": "wxreJwc2Gc5z"
   },
   "outputs": [
    {
     "name": "stdout",
     "output_type": "stream",
     "text": [
      "Confusion matrix : \n",
      "[[ 2430    11]\n",
      " [    7 62649]]\n",
      "Accuracy :  0.999723\n"
     ]
    }
   ],
   "source": [
    "y_pred_knn = search.best_estimator_.predict(X_test_sc)\n",
    "print(\"Confusion matrix : \")\n",
    "print(confusion_matrix(y_test,y_pred_knn))\n",
    "print(\"Accuracy : \",np.round(accuracy_score(y_test,y_pred_knn),4))"
   ]
  },
  {
   "cell_type": "markdown",
   "metadata": {
    "id": "eM0GCsMk8php"
   },
   "source": [
    "# Analyse discriminante linéaire\n",
    "\n",
    "On peut comparer les résultats obtenus par l'algorithme des plus proches voisins avec ceux d'une analyse discriminante. "
   ]
  },
  {
   "cell_type": "code",
   "execution_count": 44,
   "metadata": {
    "colab": {
     "base_uri": "https://localhost:8080/",
     "height": 333
    },
    "id": "JC8egDK_8qbL",
    "outputId": "37d4abef-e1a7-4059-83b4-abeed47cdb5d"
   },
   "outputs": [
    {
     "name": "stdout",
     "output_type": "stream",
     "text": [
      "Confusion matrix (LDA): \n",
      "[[ 1986   455]\n",
      " [  154 62502]]\n"
     ]
    },
    {
     "data": {
      "image/png": "[encoded data removed]",
      "text/plain": [
       "<Figure size 432x288 with 1 Axes>"
      ]
     },
     "metadata": {
      "needs_background": "light"
     },
     "output_type": "display_data"
    }
   ],
   "source": [
    "from sklearn.discriminant_analysis import LinearDiscriminantAnalysis\n",
    "\n",
    "lda = LinearDiscriminantAnalysis()\n",
    "lda.fit(X_train_sc,y_train)\n",
    "y_pred_lda = lda.predict(X_test_sc)\n",
    "\n",
    "print(\"Confusion matrix (LDA): \")\n",
    "print(confusion_matrix(y_test,y_pred_lda))\n",
    "\n",
    "plot_roc_curve(lda, X_test_sc, y_test)  \n",
    "plt.show()"
   ]
  },
  {
   "cell_type": "code",
   "execution_count": 45,
   "metadata": {},
   "outputs": [
    {
     "name": "stdout",
     "output_type": "stream",
     "text": [
      "Precision: 0.928 recall: 0.814 f1-score: 0.867\n"
     ]
    }
   ],
   "source": [
    "f1 = f1_score(y_test,y_pred_lda,pos_label=\"Attack\")\n",
    "r = recall_score(y_test,y_pred_lda,pos_label=\"Attack\")\n",
    "p = precision_score(y_test,y_pred_lda,pos_label=\"Attack\")\n",
    "print(\"Precision:\"%d, np.round(p,3), \"recall:\"%d, np.round(r,3), \"f1-score:\"%d, np.round(f1,3))"
   ]
  },
  {
   "cell_type": "markdown",
   "metadata": {
    "id": "TN4CKJHjLQdN"
   },
   "source": [
    "# Regression logistique"
   ]
  },
  {
   "cell_type": "code",
   "execution_count": 46,
   "metadata": {
    "colab": {
     "base_uri": "https://localhost:8080/"
    },
    "id": "8XCZxnkOLa3n",
    "outputId": "cf7c70d7-78ce-408d-ffdc-6472626d80ae"
   },
   "outputs": [
    {
     "data": {
      "text/plain": [
       "LogisticRegression(C=1.0, class_weight=None, dual=False, fit_intercept=True,\n",
       "                   intercept_scaling=1, l1_ratio=None, max_iter=3000,\n",
       "                   multi_class='auto', n_jobs=None, penalty='l2',\n",
       "                   random_state=None, solver='lbfgs', tol=0.0001, verbose=0,\n",
       "                   warm_start=False)"
      ]
     },
     "execution_count": 46,
     "metadata": {},
     "output_type": "execute_result"
    }
   ],
   "source": [
    "clf = linear_model.LogisticRegression(max_iter = 3000)\n",
    "clf.fit(X_train_sc,y_train)"
   ]
  },
  {
   "cell_type": "code",
   "execution_count": null,
   "metadata": {
    "id": "EnM6yKSILQEe"
   },
   "outputs": [],
   "source": [
    "param_grid = {'C':[1e-03,1e-02,1e-01,1,10,100,1000]}\n",
    "clf = linear_model.LogisticRegression(penalty='l1',\n",
    "                                      solver='saga',\n",
    "                                      max_iter=1e4)\n",
    "search = GridSearchCV(clf, \n",
    "                      param_grid, \n",
    "                      scoring=\"accuracy\",\n",
    "                      cv=cv,\n",
    "                      n_jobs=-1)\n",
    "search.fit(X_train_sc,y_train)\n",
    "print('Meilleur modèle')\n",
    "print(search.best_estimator_)\n",
    "\n",
    "# Meilleur modèle\n",
    "# LogisticRegression(C=100, max_iter=10000.0, penalty='l1', solver='saga')\n"
   ]
  }
 ],
 "metadata": {
  "colab": {
   "collapsed_sections": [],
   "name": "Network Intrusions - kNN - e bis.ipynb",
   "provenance": []
  },
  "kernelspec": {
   "display_name": "Python 3",
   "language": "python",
   "name": "python3"
  },
  "language_info": {
   "codemirror_mode": {
    "name": "ipython",
    "version": 3
   },
   "file_extension": ".py",
   "mimetype": "text/x-python",
   "name": "python",
   "nbconvert_exporter": "python",
   "pygments_lexer": "ipython3",
   "version": "3.7.6"
  }
 },
 "nbformat": 4,
 "nbformat_minor": 1
}
